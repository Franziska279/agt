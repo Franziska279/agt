{
  "nbformat": 4,
  "nbformat_minor": 0,
  "metadata": {
    "colab": {
      "name": "AGT_Project_Starter.ipynb",
      "provenance": [],
      "collapsed_sections": []
    },
    "kernelspec": {
      "name": "python3",
      "display_name": "Python 3"
    },
    "language_info": {
      "name": "python"
    }
  },
  "cells": [
    {
      "cell_type": "code",
      "metadata": {
        "id": "lUqh3TZkgzZs"
      },
      "source": [
        "import numpy as np\n",
        "import pandas as pd"
      ],
      "execution_count": 122,
      "outputs": []
    },
    {
      "cell_type": "code",
      "metadata": {
        "id": "0GnCVqUBzePi"
      },
      "source": [
        "def creatingMatrix(preferences, group):\n",
        "  row_lengths = []\n",
        "  pref = preferences\n",
        "\n",
        "  for row in pref:\n",
        "    row_lengths.append(len(row))\n",
        "\n",
        "  max_length = max(row_lengths)\n",
        "  \n",
        "  for row in pref:\n",
        "    while len(row) < max_length:\n",
        "        row.append(None)\n",
        "\n",
        "  df = pd.DataFrame(np.array(pref), index=group)\n",
        "  \n",
        "  return df"
      ],
      "execution_count": 123,
      "outputs": []
    },
    {
      "cell_type": "code",
      "metadata": {
        "id": "YplhFqrn9hrN"
      },
      "source": [
        "def createNestedDictionary(input, friends):\n",
        "\n",
        "  # Nested dicitionary\n",
        "  listing = []\n",
        "\n",
        "  for pref in input:\n",
        "    dicts = {}\n",
        "    for i, name in enumerate(pref, 1):\n",
        "      dicts[i] = name\n",
        "\n",
        "    listing.append(dicts)\n",
        "\n",
        "  a_dict = {key: value for key, value in zip(friends, listing)}\n",
        "\n",
        "  return a_dict\n",
        "\n"
      ],
      "execution_count": 124,
      "outputs": []
    },
    {
      "cell_type": "markdown",
      "metadata": {
        "id": "nhEsmJ7hN_UB"
      },
      "source": [
        "# Representing the Preference of the players\n",
        "\n",
        "1. Simulate a group of friends who want to visit different cities in Italy. Each friend has different wishes and priorities of the destination cities.\n"
      ]
    },
    {
      "cell_type": "code",
      "metadata": {
        "id": "eqd_WZTfOUVA",
        "colab": {
          "base_uri": "https://localhost:8080/"
        },
        "outputId": "f654bd9e-b0d2-443f-d38c-8a8982113586"
      },
      "source": [
        "f = ['Florence', 'Venedig', 'Neapel', 'Pompeji', 'Syrakus', 'Rom', 'Milan']\n",
        "e = ['Neapel', 'Pompeji','Palermo']\n",
        "k = ['Tropea','Scilla', 'Syrakus', 'Neapel']\n",
        "r = []\n",
        "\n",
        "# Must be in correct Order\n",
        "friends = ['Franzi' , 'Erisa', 'Kerstin', 'Ruth']\n",
        "input = [f,e,k,r]\n",
        "print(input)\n",
        "print(friends)"
      ],
      "execution_count": 126,
      "outputs": [
        {
          "output_type": "stream",
          "name": "stdout",
          "text": [
            "[['Florence', 'Venedig', 'Neapel', 'Pompeji', 'Syrakus', 'Rom', 'Milan'], ['Neapel', 'Pompeji', 'Palermo'], ['Tropea', 'Scilla', 'Syrakus', 'Neapel'], []]\n",
            "['Franzi', 'Erisa', 'Kerstin', 'Ruth']\n"
          ]
        }
      ]
    },
    {
      "cell_type": "markdown",
      "metadata": {
        "id": "MWVFRWPwe3Ke"
      },
      "source": [
        "\n",
        "2.   Store the wishes in an easily usable data structure: \n",
        "\n",
        "\n",
        "*   Dictionary\n",
        "*   Matrix\n",
        "\n"
      ]
    },
    {
      "cell_type": "code",
      "metadata": {
        "colab": {
          "base_uri": "https://localhost:8080/"
        },
        "id": "eXfObdVRfTiO",
        "outputId": "7d4a958c-396d-42d4-9125-2b9ca0cf2f47"
      },
      "source": [
        "# Normal Dictionary - assuming the cities are in the priority order\n",
        "travel_dictionary =\t{\n",
        "  \"f\": f,\n",
        "  \"e\": e,\n",
        "  \"k\": k,\n",
        "  \"r\": r,\n",
        "}\n",
        "print(travel_dictionary)\n",
        "print()\n",
        "\n",
        "\n",
        "# Nested Disctionary - assuming the cities are in the priority order\n",
        "nested_dicitionary = createNestedDictionary(input, friends)\n",
        "print(nested_dicitionary)"
      ],
      "execution_count": 127,
      "outputs": [
        {
          "output_type": "stream",
          "name": "stdout",
          "text": [
            "{'f': ['Florence', 'Venedig', 'Neapel', 'Pompeji', 'Syrakus', 'Rom', 'Milan'], 'e': ['Neapel', 'Pompeji', 'Palermo'], 'k': ['Tropea', 'Scilla', 'Syrakus', 'Neapel'], 'r': []}\n",
            "\n",
            "{'Franzi': {1: 'Florence', 2: 'Venedig', 3: 'Neapel', 4: 'Pompeji', 5: 'Syrakus', 6: 'Rom', 7: 'Milan'}, 'Erisa': {1: 'Neapel', 2: 'Pompeji', 3: 'Palermo'}, 'Kerstin': {1: 'Tropea', 2: 'Scilla', 3: 'Syrakus', 4: 'Neapel'}, 'Ruth': {}}\n"
          ]
        }
      ]
    },
    {
      "cell_type": "code",
      "metadata": {
        "colab": {
          "base_uri": "https://localhost:8080/"
        },
        "id": "hvBlGuOjgfhR",
        "outputId": "0af8e0a5-0e8f-468d-c0a7-c1e928f819fa"
      },
      "source": [
        "df = creatingMatrix(input, friends)\n",
        "print(df)"
      ],
      "execution_count": 92,
      "outputs": [
        {
          "output_type": "stream",
          "name": "stdout",
          "text": [
            "                0        1        2        3        4     5      6\n",
            "Franzi   Florence  Venedig   Neapel  Pompeji  Syrakus   Rom  Milan\n",
            "Kerstin    Neapel  Pompeji  Palermo     None     None  None   None\n",
            "Erisa      Tropea   Scilla  Syrakus   Neapel     None  None   None\n",
            "Ruth         None     None     None     None     None  None   None\n"
          ]
        }
      ]
    },
    {
      "cell_type": "markdown",
      "metadata": {
        "id": "5IEvLuiDFQLs"
      },
      "source": [
        "# Voting Mechanism\n"
      ]
    },
    {
      "cell_type": "markdown",
      "metadata": {
        "id": "oNd1fn7qFWnw"
      },
      "source": [
        "\n",
        "\n",
        "1.   Plurality Voting\n",
        "2.   Border Voting\n",
        "\n"
      ]
    },
    {
      "cell_type": "code",
      "metadata": {
        "id": "hQv8gv76fjoI"
      },
      "source": [
        ""
      ],
      "execution_count": null,
      "outputs": []
    }
  ]
}